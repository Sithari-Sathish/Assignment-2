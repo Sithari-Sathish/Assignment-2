{
 "cells": [
  {
   "cell_type": "code",
   "execution_count": null,
   "metadata": {},
   "outputs": [],
   "source": [
    "##create a dataframe with 10 rows on random numbers and 4 coloumns, (columns labelled as a,b,c,d)"
   ]
  },
  {
   "cell_type": "code",
   "execution_count": 1,
   "metadata": {},
   "outputs": [],
   "source": [
    "import matplotlib.pyplot as plt\n",
    "import numpy as np\n",
    "import pandas as pd\n",
    "%matplotlib inline\n",
    "import seaborn as sns\n",
    "from numpy.random import randn, randint, uniform, sample"
   ]
  },
  {
   "cell_type": "code",
   "execution_count": 7,
   "metadata": {},
   "outputs": [],
   "source": [
    "df= pd.DataFrame(randn(10,4), columns=['a','b','c','d'])"
   ]
  },
  {
   "cell_type": "code",
   "execution_count": 10,
   "metadata": {},
   "outputs": [
    {
     "data": {
      "text/html": [
       "<div>\n",
       "<style scoped>\n",
       "    .dataframe tbody tr th:only-of-type {\n",
       "        vertical-align: middle;\n",
       "    }\n",
       "\n",
       "    .dataframe tbody tr th {\n",
       "        vertical-align: top;\n",
       "    }\n",
       "\n",
       "    .dataframe thead th {\n",
       "        text-align: right;\n",
       "    }\n",
       "</style>\n",
       "<table border=\"1\" class=\"dataframe\">\n",
       "  <thead>\n",
       "    <tr style=\"text-align: right;\">\n",
       "      <th></th>\n",
       "      <th>a</th>\n",
       "      <th>b</th>\n",
       "      <th>c</th>\n",
       "      <th>d</th>\n",
       "    </tr>\n",
       "  </thead>\n",
       "  <tbody>\n",
       "    <tr>\n",
       "      <th>0</th>\n",
       "      <td>-0.049836</td>\n",
       "      <td>0.230837</td>\n",
       "      <td>-0.445541</td>\n",
       "      <td>-0.611943</td>\n",
       "    </tr>\n",
       "    <tr>\n",
       "      <th>1</th>\n",
       "      <td>0.524560</td>\n",
       "      <td>0.615205</td>\n",
       "      <td>0.057762</td>\n",
       "      <td>-1.583089</td>\n",
       "    </tr>\n",
       "    <tr>\n",
       "      <th>2</th>\n",
       "      <td>0.410615</td>\n",
       "      <td>-1.161139</td>\n",
       "      <td>0.131229</td>\n",
       "      <td>-0.250145</td>\n",
       "    </tr>\n",
       "    <tr>\n",
       "      <th>3</th>\n",
       "      <td>0.784517</td>\n",
       "      <td>0.618548</td>\n",
       "      <td>0.787529</td>\n",
       "      <td>-1.909419</td>\n",
       "    </tr>\n",
       "    <tr>\n",
       "      <th>4</th>\n",
       "      <td>0.006709</td>\n",
       "      <td>-0.595576</td>\n",
       "      <td>1.083652</td>\n",
       "      <td>0.440456</td>\n",
       "    </tr>\n",
       "    <tr>\n",
       "      <th>5</th>\n",
       "      <td>1.078127</td>\n",
       "      <td>-0.741607</td>\n",
       "      <td>-0.332645</td>\n",
       "      <td>-1.027145</td>\n",
       "    </tr>\n",
       "    <tr>\n",
       "      <th>6</th>\n",
       "      <td>-0.516911</td>\n",
       "      <td>-0.310820</td>\n",
       "      <td>-1.406348</td>\n",
       "      <td>1.636424</td>\n",
       "    </tr>\n",
       "    <tr>\n",
       "      <th>7</th>\n",
       "      <td>0.543684</td>\n",
       "      <td>0.320520</td>\n",
       "      <td>-0.592584</td>\n",
       "      <td>1.738227</td>\n",
       "    </tr>\n",
       "    <tr>\n",
       "      <th>8</th>\n",
       "      <td>0.844284</td>\n",
       "      <td>-0.644764</td>\n",
       "      <td>-1.582452</td>\n",
       "      <td>-0.550575</td>\n",
       "    </tr>\n",
       "    <tr>\n",
       "      <th>9</th>\n",
       "      <td>-0.603138</td>\n",
       "      <td>0.917803</td>\n",
       "      <td>0.266985</td>\n",
       "      <td>-0.057889</td>\n",
       "    </tr>\n",
       "  </tbody>\n",
       "</table>\n",
       "</div>"
      ],
      "text/plain": [
       "          a         b         c         d\n",
       "0 -0.049836  0.230837 -0.445541 -0.611943\n",
       "1  0.524560  0.615205  0.057762 -1.583089\n",
       "2  0.410615 -1.161139  0.131229 -0.250145\n",
       "3  0.784517  0.618548  0.787529 -1.909419\n",
       "4  0.006709 -0.595576  1.083652  0.440456\n",
       "5  1.078127 -0.741607 -0.332645 -1.027145\n",
       "6 -0.516911 -0.310820 -1.406348  1.636424\n",
       "7  0.543684  0.320520 -0.592584  1.738227\n",
       "8  0.844284 -0.644764 -1.582452 -0.550575\n",
       "9 -0.603138  0.917803  0.266985 -0.057889"
      ]
     },
     "execution_count": 10,
     "metadata": {},
     "output_type": "execute_result"
    }
   ],
   "source": [
    "df"
   ]
  },
  {
   "cell_type": "code",
   "execution_count": 15,
   "metadata": {},
   "outputs": [
    {
     "data": {
      "text/plain": [
       "Text(0, 0.5, 'y-axis')"
      ]
     },
     "execution_count": 15,
     "metadata": {},
     "output_type": "execute_result"
    },
    {
     "data": {
      "image/png": "[encoded data removed]",
      "text/plain": [
       "<Figure size 432x288 with 1 Axes>"
      ]
     },
     "metadata": {
      "needs_background": "light"
     },
     "output_type": "display_data"
    }
   ],
   "source": [
    "df.plot.bar(width=2)\n",
    "plt.title('Bar chart')\n",
    "plt.xlabel('x-axis')\n",
    "plt.ylabel('y-axis')"
   ]
  },
  {
   "cell_type": "code",
   "execution_count": null,
   "metadata": {},
   "outputs": [],
   "source": []
  }
 ],
 "metadata": {
  "kernelspec": {
   "display_name": "Python 3",
   "language": "python",
   "name": "python3"
  },
  "language_info": {
   "codemirror_mode": {
    "name": "ipython",
    "version": 3
   },
   "file_extension": ".py",
   "mimetype": "text/x-python",
   "name": "python",
   "nbconvert_exporter": "python",
   "pygments_lexer": "ipython3",
   "version": "3.8.5"
  }
 },
 "nbformat": 4,
 "nbformat_minor": 4
}
